{
 "cells": [
  {
   "cell_type": "code",
   "execution_count": 16,
   "metadata": {
    "scrolled": true
   },
   "outputs": [
    {
     "name": "stdout",
     "output_type": "stream",
     "text": [
      "import os\r\n",
      "import pytest\r\n",
      "from unittest.mock import patch\r\n",
      "\r\n",
      "@pytest.fixture\r\n",
      "def fixture():\r\n",
      "    print(\"Fixture executed\")\r\n",
      "\r\n",
      "@patch(\"os.system\")\r\n",
      "def test_right_order(mock, fixture):\r\n",
      "    pass\r\n"
     ]
    }
   ],
   "source": [
    "cat test_fixture_and_mock.py"
   ]
  },
  {
   "cell_type": "code",
   "execution_count": 22,
   "metadata": {},
   "outputs": [
    {
     "name": "stdout",
     "output_type": "stream",
     "text": [
      "\u001b[1m============================= test session starts ==============================\u001b[0m\n",
      "platform linux -- Python 3.7.0, pytest-3.10.1, py-1.7.0, pluggy-0.8.0 -- /mnt/d/linux/venv/3.7/bin/python3.7\n",
      "cachedir: .pytest_cache\n",
      "rootdir: /mnt/c/Users/Mario/Google Drive/Apress Videos/mock/11_patch_and_pytest, inifile:\n",
      "collected 1 item                                                               \u001b[0m\n",
      "\n",
      "test_fixture_and_mock.py::test_right_order \u001b[32mPASSED\u001b[0m\u001b[36m                        [100%]\u001b[0m\n",
      "\n",
      "\u001b[32m\u001b[1m=========================== 1 passed in 0.03 seconds ===========================\u001b[0m\n"
     ]
    }
   ],
   "source": [
    "!pytest test_fixture_and_mock.py -v"
   ]
  },
  {
   "cell_type": "code",
   "execution_count": 18,
   "metadata": {},
   "outputs": [
    {
     "name": "stdout",
     "output_type": "stream",
     "text": [
      "import os\r\n",
      "import pytest\r\n",
      "from unittest.mock import patch\r\n",
      "\r\n",
      "\r\n",
      "@pytest.fixture\r\n",
      "def mock_fixture():\r\n",
      "    with patch(\"os.system\") as mock:\r\n",
      "        mock.return_value = \"nope\"\r\n",
      "        yield\r\n",
      "\r\n",
      "def test_mock_fixture(mock_fixture):\r\n",
      "    assert \"nope\" == os.system(\"echo yes\")\r\n",
      "\r\n"
     ]
    }
   ],
   "source": [
    "cat test_mock_fixture.py"
   ]
  },
  {
   "cell_type": "code",
   "execution_count": 21,
   "metadata": {},
   "outputs": [
    {
     "name": "stdout",
     "output_type": "stream",
     "text": [
      "\u001b[1m============================= test session starts ==============================\u001b[0m\n",
      "platform linux -- Python 3.7.0, pytest-3.10.1, py-1.7.0, pluggy-0.8.0 -- /mnt/d/linux/venv/3.7/bin/python3.7\n",
      "cachedir: .pytest_cache\n",
      "rootdir: /mnt/c/Users/Mario/Google Drive/Apress Videos/mock/11_patch_and_pytest, inifile:\n",
      "collected 1 item                                                               \u001b[0m\n",
      "\n",
      "test_mock_fixture.py::test_mock_fixture \u001b[32mPASSED\u001b[0m\u001b[36m                           [100%]\u001b[0m\n",
      "\n",
      "\u001b[32m\u001b[1m=========================== 1 passed in 0.05 seconds ===========================\u001b[0m\n"
     ]
    }
   ],
   "source": [
    "!pytest test_mock_fixture.py -v"
   ]
  },
  {
   "cell_type": "code",
   "execution_count": null,
   "metadata": {},
   "outputs": [],
   "source": []
  }
 ],
 "metadata": {
  "kernelspec": {
   "display_name": "Python 3",
   "language": "python",
   "name": "python3"
  },
  "language_info": {
   "codemirror_mode": {
    "name": "ipython",
    "version": 3
   },
   "file_extension": ".py",
   "mimetype": "text/x-python",
   "name": "python",
   "nbconvert_exporter": "python",
   "pygments_lexer": "ipython3",
   "version": "3.7.0+"
  }
 },
 "nbformat": 4,
 "nbformat_minor": 2
}
