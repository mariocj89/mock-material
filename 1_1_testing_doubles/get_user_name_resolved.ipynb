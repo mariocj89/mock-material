{
 "cells": [
  {
   "cell_type": "code",
   "execution_count": null,
   "metadata": {},
   "outputs": [],
   "source": [
    "def get_user_name(user, session):\n",
    "     \"\"\"Given a Github user, gets it name\"\"\"\n",
    "     url = f\"https://api.github.com/users/{user}\"\n",
    "     response = session.get(url)\n",
    "     json_response = response.json()\n",
    "     return json_response[\"name\"]"
   ]
  },
  {
   "cell_type": "code",
   "execution_count": 7,
   "metadata": {},
   "outputs": [],
   "source": [
    "class FakeSession:\n",
    "    def get(self, url):\n",
    "        return FakeResponse()\n",
    "\n",
    "class FakeResponse:\n",
    "    def json(self):\n",
    "        return {\"name\": \"Mario Corchero\"}"
   ]
  },
  {
   "cell_type": "code",
   "execution_count": 8,
   "metadata": {},
   "outputs": [],
   "source": [
    "assert \"Mario Corchero\" == get_user_name(\"mariocj89\", FakeSession())"
   ]
  }
 ],
 "metadata": {
  "kernelspec": {
   "display_name": "Python 3",
   "language": "python",
   "name": "python3"
  },
  "language_info": {
   "codemirror_mode": {
    "name": "ipython",
    "version": 3
   },
   "file_extension": ".py",
   "mimetype": "text/x-python",
   "name": "python",
   "nbconvert_exporter": "python",
   "pygments_lexer": "ipython3",
   "version": "3.7.0+"
  }
 },
 "nbformat": 4,
 "nbformat_minor": 2
}
