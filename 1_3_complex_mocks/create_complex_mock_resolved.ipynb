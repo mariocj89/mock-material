{
 "cells": [
  {
   "cell_type": "code",
   "execution_count": 2,
   "metadata": {},
   "outputs": [],
   "source": [
    "from unittest.mock import Mock\n",
    "\n",
    "fake_response = Mock()\n",
    "fake_response.json = Mock(return_value={\"name\": \"Mario Corchero\"})\n",
    "fake_session = Mock()\n",
    "fake_session.get = Mock(return_value=fake_response)"
   ]
  },
  {
   "cell_type": "code",
   "execution_count": 3,
   "metadata": {},
   "outputs": [],
   "source": [
    "# one liner\n",
    "\n",
    "response_payload = {\"name\": \"Mario Corchero\"}\n",
    "fake_session = Mock(**{'get.return_value.json.return_value': response_payload})"
   ]
  },
  {
   "cell_type": "code",
   "execution_count": 4,
   "metadata": {},
   "outputs": [],
   "source": [
    "# Exaplain auto mock generation\n",
    "\n",
    "fake_session = Mock()\n",
    "fake_session.get.return_value.json.return_value = {\"name\": \"Mario Corchero\"}"
   ]
  }
 ],
 "metadata": {
  "kernelspec": {
   "display_name": "Python 3",
   "language": "python",
   "name": "python3"
  },
  "language_info": {
   "codemirror_mode": {
    "name": "ipython",
    "version": 3
   },
   "file_extension": ".py",
   "mimetype": "text/x-python",
   "name": "python",
   "nbconvert_exporter": "python",
   "pygments_lexer": "ipython3",
   "version": "3.7.0"
  }
 },
 "nbformat": 4,
 "nbformat_minor": 2
}
