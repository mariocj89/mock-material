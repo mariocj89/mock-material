{
 "cells": [
  {
   "cell_type": "code",
   "execution_count": 3,
   "metadata": {},
   "outputs": [],
   "source": [
    "class Duck:\n",
    "    def walk(self):\n",
    "        print(\"Spectator: Look, a walking duck!\")\n",
    "              \n",
    "    def fly(self):\n",
    "        print(\"Spectator: Look, a flying duck!\")"
   ]
  },
  {
   "cell_type": "code",
   "execution_count": 4,
   "metadata": {},
   "outputs": [],
   "source": [
    "from unittest.mock import patch"
   ]
  },
  {
   "cell_type": "code",
   "execution_count": 5,
   "metadata": {},
   "outputs": [],
   "source": [
    "duck1 = Duck()\n",
    "duck2 = Duck()"
   ]
  },
  {
   "cell_type": "code",
   "execution_count": 8,
   "metadata": {},
   "outputs": [
    {
     "name": "stdout",
     "output_type": "stream",
     "text": [
      "Spectator: Look, a walking duck!\n",
      "Spectator: Look, a walking duck!\n",
      "Spectator: Look, a flying duck!\n"
     ]
    }
   ],
   "source": [
    "with patch.object(duck1, \"fly\") as mock:\n",
    "    duck1.walk()\n",
    "    duck2.walk()\n",
    "    duck1.fly()\n",
    "    duck2.fly()\n",
    "assert mock.called"
   ]
  },
  {
   "cell_type": "code",
   "execution_count": 9,
   "metadata": {},
   "outputs": [
    {
     "name": "stdout",
     "output_type": "stream",
     "text": [
      "Spectator: Look, a walking duck!\n",
      "Spectator: Look, a walking duck!\n",
      "Spectator: Look, a flying pig!\n",
      "Spectator: Look, a flying duck!\n"
     ]
    }
   ],
   "source": [
    "with patch.object(duck1, \"fly\", lambda: print(\"Spectator: Look, a flying pig!\")):\n",
    "    duck1.walk()\n",
    "    duck2.walk()\n",
    "    duck1.fly()\n",
    "    duck2.fly()"
   ]
  },
  {
   "cell_type": "code",
   "execution_count": null,
   "metadata": {},
   "outputs": [],
   "source": []
  }
 ],
 "metadata": {
  "kernelspec": {
   "display_name": "Python 3",
   "language": "python",
   "name": "python3"
  },
  "language_info": {
   "codemirror_mode": {
    "name": "ipython",
    "version": 3
   },
   "file_extension": ".py",
   "mimetype": "text/x-python",
   "name": "python",
   "nbconvert_exporter": "python",
   "pygments_lexer": "ipython3",
   "version": "3.7.0+"
  }
 },
 "nbformat": 4,
 "nbformat_minor": 2
}
