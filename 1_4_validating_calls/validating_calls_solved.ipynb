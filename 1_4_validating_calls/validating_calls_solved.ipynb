{
 "cells": [
  {
   "cell_type": "code",
   "execution_count": 14,
   "metadata": {},
   "outputs": [
    {
     "data": {
      "text/plain": [
       "<Mock name='mock()' id='139688982646400'>"
      ]
     },
     "execution_count": 14,
     "metadata": {},
     "output_type": "execute_result"
    }
   ],
   "source": [
    "from unittest.mock import Mock\n",
    "\n",
    "m = Mock()\n",
    "\n",
    "m(1)\n",
    "m(2, 3)\n",
    "m(4, 5, 6, kw=True)"
   ]
  },
  {
   "cell_type": "code",
   "execution_count": 15,
   "metadata": {},
   "outputs": [],
   "source": [
    "# assert_called_with (most recent call)\n",
    "\n",
    "m.assert_called_with(4, 5, 6, kw=True)"
   ]
  },
  {
   "cell_type": "code",
   "execution_count": 16,
   "metadata": {},
   "outputs": [],
   "source": [
    "# assert_any_call (any call)\n",
    "\n",
    "m.assert_any_call(1)"
   ]
  },
  {
   "cell_type": "code",
   "execution_count": 18,
   "metadata": {},
   "outputs": [],
   "source": [
    "# Using mock.ANY\n",
    "from unittest.mock import ANY\n",
    "\n",
    "m.assert_called_with(4, 5, 6, kw=ANY)"
   ]
  },
  {
   "cell_type": "code",
   "execution_count": 6,
   "metadata": {},
   "outputs": [
    {
     "name": "stdout",
     "output_type": "stream",
     "text": [
      "False\n",
      "0\n"
     ]
    }
   ],
   "source": [
    "# called and call_count attribute\n",
    "print(m.called)\n",
    "print(m.call_count)"
   ]
  },
  {
   "cell_type": "code",
   "execution_count": 20,
   "metadata": {},
   "outputs": [
    {
     "name": "stdout",
     "output_type": "stream",
     "text": [
      "args:  (4, 5, 6)\n",
      "kwargs:  {'kw': True}\n"
     ]
    }
   ],
   "source": [
    "# get the args of the last call\n",
    "\n",
    "args, kwargs = m.call_args\n",
    "print(\"args: \", args)\n",
    "print(\"kwargs: \", kwargs)"
   ]
  },
  {
   "cell_type": "code",
   "execution_count": 27,
   "metadata": {},
   "outputs": [
    {
     "name": "stdout",
     "output_type": "stream",
     "text": [
      "\n",
      "Call 0:\n",
      "args: (1,)\n",
      "kwargs: {}\n",
      "\n",
      "\n",
      "Call 1:\n",
      "args: (2, 3)\n",
      "kwargs: {}\n",
      "\n",
      "\n",
      "Call 2:\n",
      "args: (4, 5, 6)\n",
      "kwargs: {'kw': True}\n",
      "\n"
     ]
    }
   ],
   "source": [
    "# get all call args\n",
    "\n",
    "for i, (args, kwargs) in enumerate(m.call_args_list):\n",
    "    print(f\"\"\"\n",
    "Call {i}:\n",
    "args: {args}\n",
    "kwargs: {kwargs}\n",
    "\"\"\")\n"
   ]
  }
 ],
 "metadata": {
  "kernelspec": {
   "display_name": "Python 3",
   "language": "python",
   "name": "python3"
  },
  "language_info": {
   "codemirror_mode": {
    "name": "ipython",
    "version": 3
   },
   "file_extension": ".py",
   "mimetype": "text/x-python",
   "name": "python",
   "nbconvert_exporter": "python",
   "pygments_lexer": "ipython3",
   "version": "3.7.0"
  }
 },
 "nbformat": 4,
 "nbformat_minor": 2
}
