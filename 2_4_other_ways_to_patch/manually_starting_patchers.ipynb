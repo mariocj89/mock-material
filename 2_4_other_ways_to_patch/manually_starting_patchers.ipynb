{
 "cells": [
  {
   "cell_type": "code",
   "execution_count": 2,
   "metadata": {},
   "outputs": [
    {
     "name": "stdout",
     "output_type": "stream",
     "text": [
      "Secret user\n"
     ]
    }
   ],
   "source": [
    "# how to\n",
    "\n",
    "from unittest.mock import patch\n",
    "import source_code2\n",
    "\n",
    "\n",
    "payload = {\"name\": \"Secret user\"}\n",
    "patcher = patch('source_code2.Session')\n",
    "mock = patcher.start()\n",
    "mock.return_value.get.return_value.json.return_value = payload\n",
    "print(source_code2.get_user_name(\"mariocj89\"))  # show movign this line down that it does not work\n",
    "patcher.stop()\n"
   ]
  },
  {
   "cell_type": "code",
   "execution_count": null,
   "metadata": {},
   "outputs": [],
   "source": []
  }
 ],
 "metadata": {
  "kernelspec": {
   "display_name": "Python 3",
   "language": "python",
   "name": "python3"
  },
  "language_info": {
   "codemirror_mode": {
    "name": "ipython",
    "version": 3
   },
   "file_extension": ".py",
   "mimetype": "text/x-python",
   "name": "python",
   "nbconvert_exporter": "python",
   "pygments_lexer": "ipython3",
   "version": "3.7.0+"
  }
 },
 "nbformat": 4,
 "nbformat_minor": 2
}
