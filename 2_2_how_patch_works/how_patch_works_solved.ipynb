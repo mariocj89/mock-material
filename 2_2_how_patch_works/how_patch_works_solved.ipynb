{
 "cells": [
  {
   "cell_type": "code",
   "execution_count": 4,
   "metadata": {},
   "outputs": [
    {
     "name": "stdout",
     "output_type": "stream",
     "text": [
      "<class 'requests.sessions.Session'>\n",
      "Patching started\n",
      "<MagicMock name='Session' id='139744950507784'>\n",
      "Patching finished\n",
      "<class 'requests.sessions.Session'>\n"
     ]
    }
   ],
   "source": [
    "from unittest.mock import patch\n",
    "import requests\n",
    "\n",
    "print(requests.Session)\n",
    "with patch('requests.Session') as mock:\n",
    "    print(\"Patching started\")\n",
    "    print(requests.Session)\n",
    "    print(\"Patching finished\")\n",
    "print(requests.Session)"
   ]
  },
  {
   "cell_type": "code",
   "execution_count": 5,
   "metadata": {},
   "outputs": [
    {
     "name": "stdout",
     "output_type": "stream",
     "text": [
      "<class 'requests.sessions.Session'>\n",
      "Patching started\n",
      "<class 'requests.sessions.Session'>\n",
      "Patching finished\n",
      "<class 'requests.sessions.Session'>\n"
     ]
    }
   ],
   "source": [
    "from unittest.mock import patch\n",
    "from requests import Session\n",
    "\n",
    "print(Session)\n",
    "with patch('requests.Session') as mock:\n",
    "    print(\"Patching started\")\n",
    "    print(Session)\n",
    "    print(\"Patching finished\")\n",
    "print(Session)"
   ]
  },
  {
   "cell_type": "code",
   "execution_count": 6,
   "metadata": {},
   "outputs": [
    {
     "name": "stdout",
     "output_type": "stream",
     "text": [
      "from requests import Session\r\n",
      "\r\n",
      "def get_user_name(user):\r\n",
      "    \"\"\"Given a Github user, gets it name\"\"\"\r\n",
      "    session = Session()\r\n",
      "    url = f\"https://api.github.com/users/{user}\"\r\n",
      "    response = session.get(url)\r\n",
      "    json_response = response.json()\r\n",
      "    return json_response[\"name\"]\r\n"
     ]
    }
   ],
   "source": [
    "!cat source_code2.py"
   ]
  },
  {
   "cell_type": "code",
   "execution_count": 9,
   "metadata": {},
   "outputs": [
    {
     "name": "stdout",
     "output_type": "stream",
     "text": [
      "Mario Corchero\n"
     ]
    }
   ],
   "source": [
    "from unittest.mock import patch\n",
    "import source_code2\n",
    "\n",
    "payload = {\"name\": \"Secret user\"}\n",
    "\n",
    "with patch('requests.Session') as mock:\n",
    "    mock.return_value.get.return_value.json.return_value = payload\n",
    "    print(source_code2.get_user_name(\"mariocj89\"))"
   ]
  },
  {
   "cell_type": "code",
   "execution_count": 10,
   "metadata": {},
   "outputs": [
    {
     "name": "stdout",
     "output_type": "stream",
     "text": [
      "Secret user\n"
     ]
    }
   ],
   "source": [
    "from unittest.mock import patch\n",
    "import source_code2\n",
    "\n",
    "payload = {\"name\": \"Secret user\"}\n",
    "\n",
    "with patch('source_code2.Session') as mock:\n",
    "    mock.return_value.get.return_value.json.return_value = payload\n",
    "    print(source_code2.get_user_name(\"mariocj89\"))"
   ]
  },
  {
   "cell_type": "code",
   "execution_count": null,
   "metadata": {},
   "outputs": [],
   "source": []
  }
 ],
 "metadata": {
  "kernelspec": {
   "display_name": "Python 3",
   "language": "python",
   "name": "python3"
  },
  "language_info": {
   "codemirror_mode": {
    "name": "ipython",
    "version": 3
   },
   "file_extension": ".py",
   "mimetype": "text/x-python",
   "name": "python",
   "nbconvert_exporter": "python",
   "pygments_lexer": "ipython3",
   "version": "3.7.0+"
  }
 },
 "nbformat": 4,
 "nbformat_minor": 2
}
